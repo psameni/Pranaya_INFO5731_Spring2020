{
  "nbformat": 4,
  "nbformat_minor": 0,
  "metadata": {
    "colab": {
      "name": "Assignment one.ipynb",
      "provenance": [],
      "collapsed_sections": [],
      "authorship_tag": "ABX9TyPVcAkLvX/pmmV8KRIQ61Mq",
      "include_colab_link": true
    },
    "kernelspec": {
      "name": "python3",
      "display_name": "Python 3"
    }
  },
  "cells": [
    {
      "cell_type": "markdown",
      "metadata": {
        "id": "view-in-github",
        "colab_type": "text"
      },
      "source": [
        "<a href=\"https://colab.research.google.com/github/psameni/Pranaya_INFO5731_Spring2020/blob/master/Assignment_one.ipynb\" target=\"_parent\"><img src=\"https://colab.research.google.com/assets/colab-badge.svg\" alt=\"Open In Colab\"/></a>"
      ]
    },
    {
      "cell_type": "markdown",
      "metadata": {
        "id": "BtkWH9qS6t5C",
        "colab_type": "text"
      },
      "source": [
        "# **Assignment 1**"
      ]
    },
    {
      "cell_type": "markdown",
      "metadata": {
        "id": "mqP_WjDd6lax",
        "colab_type": "text"
      },
      "source": [
        "Question 1 :\n",
        "\n",
        "(20 points). Write a Python program to generate 12 random numbers between 1 and 100. Sort the list of numbers in ascending order and print it out. Sort the list of numbers in descending order and print it out. Calculate the average for the group and print it out."
      ]
    },
    {
      "cell_type": "code",
      "metadata": {
        "id": "aPFfceoK6qis",
        "colab_type": "code",
        "colab": {
          "base_uri": "https://localhost:8080/",
          "height": 67
        },
        "outputId": "87c64179-4a70-4672-a92a-c226505a1f54"
      },
      "source": [
        "import random\n",
        "import sys\n",
        "import math\n",
        "\n",
        "lst=[]\n",
        "count=0\n",
        "while count < 12:\n",
        "  val=random.randint(1,100)\n",
        "  if val not in lst:\n",
        "   lst.append(val)\n",
        "   count=count+1\n",
        "lst.sort()\n",
        "print(\"Ascending Order :\",lst)\n",
        "lst.sort(reverse=True)\n",
        "print(\"Descending Order :\",lst)\n",
        "print(\"Average of the group :\",sum(lst)/len(lst))\n"
      ],
      "execution_count": 1,
      "outputs": [
        {
          "output_type": "stream",
          "text": [
            "Ascending Order : [10, 20, 26, 29, 43, 68, 71, 78, 88, 93, 99, 100]\n",
            "Descending Order : [100, 99, 93, 88, 78, 71, 68, 43, 29, 26, 20, 10]\n",
            "Average of the group : 60.416666666666664\n"
          ],
          "name": "stdout"
        }
      ]
    },
    {
      "cell_type": "markdown",
      "metadata": {
        "id": "0BEJ_i5TAMq9",
        "colab_type": "text"
      },
      "source": [
        "Question 2\n",
        "(25 points). Write a program that will do the following string formatting tasks:\n",
        "\n",
        "(1) Ask the user to enter two sentences.\n",
        "\n",
        "(2) Make each sentence into a list. Each element in the list should correspond to a word in the sentence. For example, if the sentence is \"Alas! Am I alive? This is my first python program\", the program should print out ['Alas, '!', 'Am', 'I', 'alive, '?', 'This', 'is', 'my', 'first', 'python', 'program'].\n",
        "\n",
        "(3) Compare the two sentences. Print out a list of words that occur in both sentences.\n",
        "\n",
        "(4) Remove any punctuation from the sentence and print it back out. It should remove at least the following characters, but it can remove more: period(“.”), comma (“,”), semicolon (“;”), and colon (“:”)\n",
        "\n",
        "(5) Count the number of vowels in the sentences. Print out each vowel and the number of times it appears in the sentences, such as: a:2, e:1, i:0, etc"
      ]
    },
    {
      "cell_type": "code",
      "metadata": {
        "id": "6GbOtU3VAN91",
        "colab_type": "code",
        "colab": {
          "base_uri": "https://localhost:8080/",
          "height": 151
        },
        "outputId": "eece6bb8-1e90-4899-82fd-33a754822f53"
      },
      "source": [
        "import sys\n",
        "import string\n",
        "import re\n",
        "\n",
        "#point1\n",
        "sentence1=input(\"Enter Sentence one :\")\n",
        "sentence2=input(\"Enter Sentence two :\")\n",
        "\n",
        "#Point2\n",
        "lst1=re.findall(r\"[\\w']+|[!\\\"#$%&'()*+,-./:;<=>?@[\\]^_`{|}~]\", sentence1)\n",
        "lst2=re.findall(r\"[\\w']+|[!\\\"#$%&'()*+,-./:;<=>?@[\\]^_`{|}~]\", sentence2)\n",
        "print(\"Sentence 1 words :\",lst1)\n",
        "print(\"Sentence 2 words :\",re.findall(r\"[\\w']+|[!\\\"#$%&'()*+,-./:;<=>?@[\\]^_`{|}~]\", sentence2))\n",
        "\n",
        "#point3\n",
        "print(list(set([word.lower() for word in lst1]) & set([word.lower() for word in lst2])))\n",
        "\n",
        "#point4\n",
        "print([word.strip(string.punctuation) for word in sentence1.split()])\n",
        "print([word2.strip(string.punctuation) for word2 in sentence2.split()])\n",
        "\n",
        "#point5\n",
        "print(\"a:\",(sentence1.lower().count('a')+sentence2.lower().count('a')),\",e:\",(sentence1.lower().count('e')+sentence2.lower().count('e')),\"i:\",(sentence1.lower().count('i')+sentence2.lower().count('i')),\"o:\",(sentence1.lower().count('o')+sentence2.lower().count('o')),\"u:\",(sentence1.lower().count('u')+sentence2.lower().count('u')))"
      ],
      "execution_count": 59,
      "outputs": [
        {
          "output_type": "stream",
          "text": [
            "Enter Sentence one :AEIOU\n",
            "Enter Sentence two :aeiou\n",
            "Sentence 1 words : ['AEIOU']\n",
            "Sentence 2 words : ['aeiou']\n",
            "['aeiou']\n",
            "['AEIOU']\n",
            "['aeiou']\n",
            "a: 2 ,e: 2 i: 2 o: 2 u: 2\n"
          ],
          "name": "stdout"
        }
      ]
    },
    {
      "cell_type": "markdown",
      "metadata": {
        "id": "UQQMvGPkT9gR",
        "colab_type": "text"
      },
      "source": [
        "Question 3\n",
        "(15 points). The formula that describes the volume V of a sphere with radius r is the following:\n",
        "\n",
        "$ V=\\frac{4}{3}\\ast\\ \\pi\\ast\\ r^3 $\n",
        "\n",
        "Write a program to calculate the value of V when r is in the range of 1–10. Output the result in the following format:\n",
        "\n",
        "r    V\n",
        "1    …\n",
        "2    …\n",
        "3    …"
      ]
    },
    {
      "cell_type": "code",
      "metadata": {
        "id": "GtLvKGX0T-ce",
        "colab_type": "code",
        "colab": {
          "base_uri": "https://localhost:8080/",
          "height": 185
        },
        "outputId": "fc770a9b-a66e-4ce3-d1fa-6d5055561641"
      },
      "source": [
        "import math\n",
        "print(\"r V\")\n",
        "for i in range(1,10):\n",
        "  print(i,((4/3)*3.14*i**3))\n"
      ],
      "execution_count": 62,
      "outputs": [
        {
          "output_type": "stream",
          "text": [
            "r V\n",
            "1 4.1866666666666665\n",
            "2 33.49333333333333\n",
            "3 113.03999999999999\n",
            "4 267.94666666666666\n",
            "5 523.3333333333334\n",
            "6 904.3199999999999\n",
            "7 1436.0266666666666\n",
            "8 2143.5733333333333\n",
            "9 3052.08\n"
          ],
          "name": "stdout"
        }
      ]
    },
    {
      "cell_type": "markdown",
      "metadata": {
        "id": "TSjcBXVEA3dO",
        "colab_type": "text"
      },
      "source": [
        "Question 4\n",
        "(40 points). In the field of Data Science, data is often formatted as a comma-delimited (CSV) file, where each line in a file corresponds to a field's value. Refer to Chapter 9 (p. 106) for more information on comma-delimited files. To answer this question, you will need to download the file Assignment1_denton_housing.csv included with this assignment. The file Assignment1_denton_housing.csv contains statistics about housing in the city of Denton from 2008 to 2014. Write a program to implement the following questions.\n",
        "\n",
        "(1) (10 pts) Calculate the difference in the number of Occupied Housing Units from year to year and print it. The difference must be calculated for the consecutive years such as 2008-2009, 2009-2010 etc. Finally, print the values in the ascending order.\n",
        "\n",
        "(2) (10 pts) For all the years, calculate the percentage of housing units which are vacant an occupied. Print the results in the following format:\n",
        "\n",
        "Year Vacant Housing Units Occupied Housing Units\n",
        "\n",
        "2008  30%   70%                          \n",
        "2009 ----- -----\n",
        "2010 ----- -----\n",
        "2011 ----- -----\n",
        "2012 ----- -----\n",
        "2013 ----- -----\n",
        "2014 ----- -----\n",
        "\n",
        "\n",
        "\n",
        "(3) (10 pts) Calculate and print the valued and years in which the highest number of housing units were vacant and occupied. Print the results in the following format:\n",
        "\n",
        "                          Year    Value\n",
        "Vacant Housing Units      -----   -----\n",
        "Occupied Housing Units    -----   -----\n",
        "\n",
        "(4) (10 pts) Calculate the harmonic mean of the total housing units and print it out. You can find the information about harmonic mean here: https://ncalculators.com/statistics/harmonic-mean-calculator.htm\n",
        "\n"
      ]
    },
    {
      "cell_type": "code",
      "metadata": {
        "id": "r4EIipnyA1Ii",
        "colab_type": "code",
        "colab": {}
      },
      "source": [
        "import pandas as pd\n",
        "import math\n",
        "file=\"Assignment1_denton_housing.csv\"\n",
        "df=pandas.read_csv(file)\n",
        "\n",
        "print(\"--------Point 1 Solution---------\")\n",
        "rows=df.loc[df['title_field']=='Occupied Housing Units']\n",
        "rows=rows.values.tolist()\n",
        "for i in range(len(rows)-1,0,-1):\n",
        "    print(rows[i][0],\"-\",rows[i-1][0],\":\",(rows[i][2]-rows[i-1][2]))\n",
        "\n",
        "#point 2\n",
        "print(\"--------Point 2 Solution---------\")\n",
        "ohu=dict()\n",
        "vhu=dict()\n",
        "thu=dict()\n",
        "    \n",
        "newrows=df.loc[(df['title_field']=='Vacant Housing Units') | (df['title_field']=='Occupied Housing Units') | (df['title_field']== 'Total Housing Units')]\n",
        "newrows=newrows.sort_values(['year','title_field'],ascending=[1,0]).values.tolist()\n",
        "count=0\n",
        "for i in range(len(rows)):\n",
        "    thu[newrows[i+count+1][0]]=newrows[i+count+1][2]\n",
        "    vhu[newrows[i+count][0]]=newrows[i+count][2]\n",
        "    ohu[newrows[i+count+2][0]]=newrows[i+count+2][2]\n",
        "    print(newrows[i+count][0],\":\",((newrows[i+count][2]/newrows[i+count+1][2])*100),((newrows[i+count+2][2]/newrows[i+count+1][2])*100))\n",
        "    count=count+2\n",
        "\n",
        "#point 3\n",
        "print(\"--------Point 3 Solution---------\")\n",
        "vhukey= max(vhu, key=lambda k: vhu[k])\n",
        "ohukey= max(ohu, key=lambda k: ohu[k])\n",
        "print(\"Vacant Housing Units :\",vhukey,vhu[vhukey])\n",
        "print(\"Occupied Housing Units :\",ohukey,vhu[ohukey])\n",
        "    \n",
        "#point4\n",
        "print(\"--------Point 4 Solution---------\")\n",
        "denomi=0\n",
        "for value in thu.values():\n",
        "    denomi=denomi+(1/value)\n",
        "print(\"Harmonic Mean of the Total Housing Units :\",(len(thu.values())/denomi))"
      ],
      "execution_count": 0,
      "outputs": []
    }
  ]
}