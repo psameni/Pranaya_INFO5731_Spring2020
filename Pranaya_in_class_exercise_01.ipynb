{
  "nbformat": 4,
  "nbformat_minor": 0,
  "metadata": {
    "colab": {
      "name": "Pranaya_in_class_exercise_01.ipynb",
      "provenance": [],
      "collapsed_sections": [],
      "authorship_tag": "ABX9TyP4kmh7/NeW4Xxy4hkZvGCg",
      "include_colab_link": true
    },
    "kernelspec": {
      "name": "python3",
      "display_name": "Python 3"
    }
  },
  "cells": [
    {
      "cell_type": "markdown",
      "metadata": {
        "id": "view-in-github",
        "colab_type": "text"
      },
      "source": [
        "<a href=\"https://colab.research.google.com/github/psameni/Pranaya_INFO5731_Spring2020/blob/master/Pranaya_in_class_exercise_01.ipynb\" target=\"_parent\"><img src=\"https://colab.research.google.com/assets/colab-badge.svg\" alt=\"Open In Colab\"/></a>"
      ]
    },
    {
      "cell_type": "markdown",
      "metadata": {
        "id": "Xug_ZkfCcojT",
        "colab_type": "text"
      },
      "source": [
        "**First Inclass Excercise**"
      ]
    },
    {
      "cell_type": "markdown",
      "metadata": {
        "id": "WTLfDyj7cTOX",
        "colab_type": "text"
      },
      "source": [
        "(1) Write a Python program to calculate the length of a string."
      ]
    },
    {
      "cell_type": "code",
      "metadata": {
        "id": "Ud13V6UscU2n",
        "colab_type": "code",
        "colab": {
          "base_uri": "https://localhost:8080/",
          "height": 34
        },
        "outputId": "e5b1eee5-e0c8-45c1-826b-7802d72009e0"
      },
      "source": [
        "stri=\"inclass\"\n",
        "print(len(stri))"
      ],
      "execution_count": 50,
      "outputs": [
        {
          "output_type": "stream",
          "text": [
            "7\n"
          ],
          "name": "stdout"
        }
      ]
    },
    {
      "cell_type": "markdown",
      "metadata": {
        "id": "s2EJMwLTcxjp",
        "colab_type": "text"
      },
      "source": [
        "(2) Write a Python program to count the number of characters in a string.\n",
        "\n",
        "Sample String : 'google.com‘,\n",
        "\n",
        "Expected Result : {'o': 3, 'g': 2, '.': 1, 'e': 1, 'l': 1, 'm': 1, 'c': 1}"
      ]
    },
    {
      "cell_type": "code",
      "metadata": {
        "id": "XKXsOttvc1zI",
        "colab_type": "code",
        "colab": {
          "base_uri": "https://localhost:8080/",
          "height": 50
        },
        "outputId": "afd708aa-7393-42fe-ecf3-680a0c379f29"
      },
      "source": [
        "stri='inclass'\n",
        "charcount={}\n",
        "for i in stri:\n",
        "  if i in charcount:\n",
        "    charcount[i] += 1\n",
        "  else:\n",
        "    charcount[i] = 1\n",
        "print(\"Given String :\"+stri)\n",
        "print(\"Each Character count: \", charcount)\n"
      ],
      "execution_count": 49,
      "outputs": [
        {
          "output_type": "stream",
          "text": [
            "Given String :inclass\n",
            "Each Character count:  {'i': 1, 'n': 1, 'c': 1, 'l': 1, 'a': 1, 's': 2}\n"
          ],
          "name": "stdout"
        }
      ]
    },
    {
      "cell_type": "markdown",
      "metadata": {
        "id": "ObmK3OAOd-9b",
        "colab_type": "text"
      },
      "source": [
        "(3) Write a Python program to sum all the items in a list"
      ]
    },
    {
      "cell_type": "code",
      "metadata": {
        "id": "eRMjtwD6eDL6",
        "colab_type": "code",
        "colab": {
          "base_uri": "https://localhost:8080/",
          "height": 34
        },
        "outputId": "25ffcfc2-6794-4983-88a9-b24d36b87169"
      },
      "source": [
        "lst={1,2,3,4}\n",
        "lstsum=sum(lst)\n",
        "print(\"Sum of the items in given list : \",lstsum)"
      ],
      "execution_count": 6,
      "outputs": [
        {
          "output_type": "stream",
          "text": [
            "Sum of the items in given list :  10\n"
          ],
          "name": "stdout"
        }
      ]
    },
    {
      "cell_type": "markdown",
      "metadata": {
        "id": "6GueL52YemxO",
        "colab_type": "text"
      },
      "source": [
        "(4) Write a Python program to get a string from a given string where all occurrences of its first char have been changed to '\\$', except the first char itself.\n",
        "\n",
        "Sample String : 'restart‘,\n",
        "\n",
        "Expected Result : 'resta\\$t'"
      ]
    },
    {
      "cell_type": "code",
      "metadata": {
        "id": "ralr2acNfT6s",
        "colab_type": "code",
        "colab": {
          "base_uri": "https://localhost:8080/",
          "height": 34
        },
        "outputId": "a6cb94fb-4590-48d4-b685-cb8a319d4ded"
      },
      "source": [
        "stri=\"inclassinin\"\n",
        "firchar=stri[0]\n",
        "newstri=stri.replace(firchar,\"$\")\n",
        "print(firchar+newstri[1:])"
      ],
      "execution_count": 48,
      "outputs": [
        {
          "output_type": "stream",
          "text": [
            "inclass$n$n\n"
          ],
          "name": "stdout"
        }
      ]
    },
    {
      "cell_type": "markdown",
      "metadata": {
        "id": "Hxv-VmNogmEi",
        "colab_type": "text"
      },
      "source": [
        "(5) Write a program with python which could accept two parameter a and b to calculate and output the result of S, where\n",
        "\n",
        "$\\ S=3.14*(1+a/b)^3$"
      ]
    },
    {
      "cell_type": "code",
      "metadata": {
        "id": "c0sDGgcCgquw",
        "colab_type": "code",
        "colab": {
          "base_uri": "https://localhost:8080/",
          "height": 34
        },
        "outputId": "8985ca56-22ed-43f3-8d20-33a135b6a9b1"
      },
      "source": [
        "def calculateS(a,b):\n",
        "  S=3.14*(1+(a/b))**3\n",
        "  return S\n",
        "print(\"S output value : \",calculateS(0,1))"
      ],
      "execution_count": 47,
      "outputs": [
        {
          "output_type": "stream",
          "text": [
            "S output value :  3.14\n"
          ],
          "name": "stdout"
        }
      ]
    },
    {
      "cell_type": "markdown",
      "metadata": {
        "id": "hjC552t2ihYc",
        "colab_type": "text"
      },
      "source": [
        "(6) Write a Python program to concatenate following dictionaries to create a new one.\n",
        "\n",
        "Sample Dictionary : dic1={1:10, 2:20}, dic2={3:30, 4:40}, dic3={5:50,6:60},\n",
        "\n",
        "Expected Result : {1: 10, 2: 20, 3: 30, 4: 40, 5: 50, 6: 60}"
      ]
    },
    {
      "cell_type": "code",
      "metadata": {
        "id": "9Z8mV4baikgK",
        "colab_type": "code",
        "colab": {
          "base_uri": "https://localhost:8080/",
          "height": 34
        },
        "outputId": "e1a17625-1027-4ae3-fc55-23c92100f4e8"
      },
      "source": [
        "dic1={1:10, 2:20}\n",
        "dic2={3:30, 4:40} \n",
        "dic3={5:50,6:60}\n",
        "print(\"New Dictionary after concatenation:\",{**dic1,**dic2,**dic3})"
      ],
      "execution_count": 32,
      "outputs": [
        {
          "output_type": "stream",
          "text": [
            "New Dictnaory {1: 10, 2: 20, 3: 30, 4: 40, 5: 50, 6: 60}\n"
          ],
          "name": "stdout"
        }
      ]
    },
    {
      "cell_type": "markdown",
      "metadata": {
        "id": "lYxG6s7LjHOv",
        "colab_type": "text"
      },
      "source": [
        "(7) Write a Python program to check whether an element exists within a tuple."
      ]
    },
    {
      "cell_type": "code",
      "metadata": {
        "id": "yk_Nu6l6jLty",
        "colab_type": "code",
        "colab": {
          "base_uri": "https://localhost:8080/",
          "height": 34
        },
        "outputId": "45d8b496-23fe-4128-fd11-901659aa64ee"
      },
      "source": [
        "tuple1=(1,2,3)\n",
        "if 2 in tuple1:\n",
        "  print(\"Present\")\n",
        "else:\n",
        "  print(\"Not Present\")"
      ],
      "execution_count": 33,
      "outputs": [
        {
          "output_type": "stream",
          "text": [
            "Present\n"
          ],
          "name": "stdout"
        }
      ]
    },
    {
      "cell_type": "markdown",
      "metadata": {
        "id": "INN19pTyjMcD",
        "colab_type": "text"
      },
      "source": [
        "(8) Write a Python program to find maximum and the minimum value in a set."
      ]
    },
    {
      "cell_type": "code",
      "metadata": {
        "id": "i2CCgSvUjPjG",
        "colab_type": "code",
        "colab": {
          "base_uri": "https://localhost:8080/",
          "height": 50
        },
        "outputId": "f0c5ee7b-50ee-4ad8-b502-066c95d6e822"
      },
      "source": [
        "set1 = [1,2,3,4,5,6,7,8,9,0]\n",
        "print(\"Minimum  value in the set : \",min(set1))\n",
        "print(\"Maximum  value in the set : \",max(set1))"
      ],
      "execution_count": 46,
      "outputs": [
        {
          "output_type": "stream",
          "text": [
            "Minimum  value in the set :  0\n",
            "Maximum  value in the set :  9\n"
          ],
          "name": "stdout"
        }
      ]
    },
    {
      "cell_type": "markdown",
      "metadata": {
        "id": "VlZkoU0ulilU",
        "colab_type": "text"
      },
      "source": [
        "(9) Write a Python program to randomly divide the students in this class into four groups for term projects. Here is the students list:\n",
        "\n",
        "studnet_list = ['sa0753','laa0240','lba0043','pb0283','vmb0067','vcd0017','ag1121','lg0426','mj0396','ak0860','vk0222','vk0216', 'tpk0023','nk0327','mk0830','tbl0041','al0787','am1823','sm1515','km0738','hn0139','an0521','ap0975','dp1080', 'pk0292','vp0241','rp0477','hr0178','ps0501','ss1976','ss1872','ss1872','bs0490','pt0218','ry0104']"
      ]
    },
    {
      "cell_type": "code",
      "metadata": {
        "id": "x8gkdwUflm_F",
        "colab_type": "code",
        "colab": {
          "base_uri": "https://localhost:8080/",
          "height": 84
        },
        "outputId": "34657f22-273e-41e3-8d28-bf923469b3c8"
      },
      "source": [
        "import random\n",
        "student_list =  ['sa0753','laa0240','lba0043','pb0283','vmb0067','vcd0017','ag1121','lg0426','mj0396','ak0860','vk0222','vk0216', 'tpk0023','nk0327','mk0830','tbl0041','al0787','am1823','sm1515','km0738','hn0139','an0521','ap0975','dp1080', 'pk0292','vp0241','rp0477','hr0178','ps0501','ss1976','ss1872','ss1872','bs0490','pt0218','ry0104']\n",
        "for i in range(4):\n",
        "  sampling = random.choices(student_list, k=9)\n",
        "  student_list = [i for i in student_list if i not in sampling ]\n",
        "  print(\"Group\",i+1,\": \", sampling)"
      ],
      "execution_count": 44,
      "outputs": [
        {
          "output_type": "stream",
          "text": [
            "Group 1 :  ['lba0043', 'al0787', 'tpk0023', 'ap0975', 'lba0043', 'ap0975', 'sa0753', 'am1823', 'ss1872']\n",
            "Group 2 :  ['vcd0017', 'dp1080', 'sm1515', 'vcd0017', 'km0738', 'bs0490', 'pb0283', 'lg0426', 'ss1976']\n",
            "Group 3 :  ['vk0216', 'vp0241', 'tbl0041', 'tbl0041', 'tbl0041', 'ry0104', 'vp0241', 'ps0501', 'pt0218']\n",
            "Group 4 :  ['rp0477', 'ak0860', 'rp0477', 'vk0222', 'nk0327', 'hn0139', 'rp0477', 'pk0292', 'hn0139']\n"
          ],
          "name": "stdout"
        }
      ]
    }
  ]
}