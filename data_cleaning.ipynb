{
 "cells": [
  {
   "cell_type": "code",
   "execution_count": 7,
   "metadata": {},
   "outputs": [
    {
     "name": "stdout",
     "output_type": "stream",
     "text": [
      "Number of Sentences : 2\n"
     ]
    },
    {
     "name": "stderr",
     "output_type": "stream",
     "text": [
      "[nltk_data] Downloading package stopwords to\n",
      "[nltk_data]     C:\\Users\\satya\\AppData\\Roaming\\nltk_data...\n",
      "[nltk_data]   Package stopwords is already up-to-date!\n",
      "[nltk_data] Downloading package wordnet to\n",
      "[nltk_data]     C:\\Users\\satya\\AppData\\Roaming\\nltk_data...\n",
      "[nltk_data]   Package wordnet is already up-to-date!\n"
     ]
    }
   ],
   "source": [
    "#reading legal_case.tx file\n",
    "import pandas as pd\n",
    "\n",
    "data_file=\"potential_improvements.txt\"\n",
    "data=pd.read_csv(data_file,error_bad_lines=False,names=['sentence'])\n",
    "#number of sentences\n",
    "print(\"Number of Sentences :\",len(data['sentence']))\n",
    "\n",
    "#Lower casing\n",
    "data['sentence']=data['sentence'].str.lower()\n",
    "data['sentence'].head()\n",
    "\n",
    "#Removing Punctuation\n",
    "import string\n",
    "data['sentence']=data['sentence'].str.replace('[{}]'.format(string.punctuation), '')\n",
    "data['sentence'].head()\n",
    "\n",
    "#Removing Stopwords\n",
    "from nltk.corpus import stopwords\n",
    "\n",
    "import nltk\n",
    "nltk.download('stopwords')\n",
    "stop=stopwords.words('english')\n",
    "\n",
    "data['sentence']=data['sentence'].apply(lambda x:\" \".join(x for x in x.split() if x not in stop))\n",
    "data['sentence'].head()\n",
    "\n",
    "#frequent word removal\n",
    "freq=pd.Series(' '.join(data['sentence']).split()).value_counts()[:10]\n",
    "freq\n",
    "\n",
    "freq=list(freq.index)\n",
    "\n",
    "data['sentence']=data['sentence'].apply(lambda x:\" \".join(x for x in x.split() if x not in freq))\n",
    "data['sentence'].head()\n",
    "\n",
    "#rare word removal\n",
    "freq=pd.Series(' '.join(data['sentence']).split()).value_counts()[-10:]\n",
    "\n",
    "freq=list(freq.index)\n",
    "data['sentence']=data['sentence'].apply(lambda x:\" \".join(x for x in x.split() if x not in freq))\n",
    "data['sentence'].head()\n",
    "\n",
    "#Spelling Correction\n",
    "from textblob import TextBlob\n",
    "\n",
    "data['sentence']=data['sentence'].apply(lambda x: TextBlob(x).correct())\n",
    "\n",
    "#stemming\n",
    "from nltk.stem import PorterStemmer\n",
    "st=PorterStemmer()\n",
    "\n",
    "data['sentence']=data['sentence'].apply(lambda x: \" \".join([st.stem(word) for word in x.split()]))\n",
    "data['sentence'].head()\n",
    "\n",
    "#Lemmetization\n",
    "from textblob import Word\n",
    "\n",
    "import nltk\n",
    "nltk.download('wordnet')\n",
    "data['sentence']=data['sentence'].apply(lambda x: \" \".join([Word(word).lemmatize() for word in x.split()]))\n",
    "data['sentence'].head()\n",
    "\n",
    "#dropping empty rows\n",
    "# sentence=data[\"sentence\"] != \"\"\n",
    "# data=data[sentence]\n",
    "# data=data.reset_index(inplace=False)\n",
    "# data['sentence'].head()\n",
    "\n",
    "#saving the formatted sentences to \"Formatted_sentences.txt\"\n",
    "\n",
    "data['sentence'].to_csv(\"Formatted_potential_improvements_sample9.txt\",header=False,index=False)"
   ]
  },
  {
   "cell_type": "code",
   "execution_count": null,
   "metadata": {},
   "outputs": [],
   "source": []
  }
 ],
 "metadata": {
  "kernelspec": {
   "display_name": "Python 3",
   "language": "python",
   "name": "python3"
  },
  "language_info": {
   "codemirror_mode": {
    "name": "ipython",
    "version": 3
   },
   "file_extension": ".py",
   "mimetype": "text/x-python",
   "name": "python",
   "nbconvert_exporter": "python",
   "pygments_lexer": "ipython3",
   "version": "3.7.1"
  }
 },
 "nbformat": 4,
 "nbformat_minor": 2
}
